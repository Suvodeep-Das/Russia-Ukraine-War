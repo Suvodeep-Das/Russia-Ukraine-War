{
 "cells": [
  {
   "cell_type": "code",
   "execution_count": 68,
   "metadata": {},
   "outputs": [],
   "source": [
    "import numpy as np \n",
    "import pandas as pd \n",
    "import plotly\n",
    "import matplotlib.pyplot as plt\n",
    "import os\n",
    "import seaborn as sns\n",
    "%matplotlib inline"
   ]
  },
  {
   "cell_type": "code",
   "execution_count": 69,
   "metadata": {},
   "outputs": [
    {
     "data": {
      "text/html": [
       "<div>\n",
       "<style scoped>\n",
       "    .dataframe tbody tr th:only-of-type {\n",
       "        vertical-align: middle;\n",
       "    }\n",
       "\n",
       "    .dataframe tbody tr th {\n",
       "        vertical-align: top;\n",
       "    }\n",
       "\n",
       "    .dataframe thead th {\n",
       "        text-align: right;\n",
       "    }\n",
       "</style>\n",
       "<table border=\"1\" class=\"dataframe\">\n",
       "  <thead>\n",
       "    <tr style=\"text-align: right;\">\n",
       "      <th></th>\n",
       "      <th>date</th>\n",
       "      <th>day</th>\n",
       "      <th>aircraft</th>\n",
       "      <th>helicopter</th>\n",
       "      <th>tank</th>\n",
       "      <th>APC</th>\n",
       "      <th>field artillery</th>\n",
       "      <th>MRL</th>\n",
       "      <th>military auto</th>\n",
       "      <th>fuel tank</th>\n",
       "      <th>drone</th>\n",
       "      <th>naval ship</th>\n",
       "      <th>anti-aircraft warfare</th>\n",
       "      <th>special equipment</th>\n",
       "    </tr>\n",
       "  </thead>\n",
       "  <tbody>\n",
       "    <tr>\n",
       "      <th>0</th>\n",
       "      <td>2022-02-25</td>\n",
       "      <td>2</td>\n",
       "      <td>10</td>\n",
       "      <td>7</td>\n",
       "      <td>80</td>\n",
       "      <td>516</td>\n",
       "      <td>49</td>\n",
       "      <td>4</td>\n",
       "      <td>100</td>\n",
       "      <td>60</td>\n",
       "      <td>0</td>\n",
       "      <td>2</td>\n",
       "      <td>0</td>\n",
       "      <td>NaN</td>\n",
       "    </tr>\n",
       "    <tr>\n",
       "      <th>1</th>\n",
       "      <td>2022-02-26</td>\n",
       "      <td>3</td>\n",
       "      <td>27</td>\n",
       "      <td>26</td>\n",
       "      <td>146</td>\n",
       "      <td>706</td>\n",
       "      <td>49</td>\n",
       "      <td>4</td>\n",
       "      <td>130</td>\n",
       "      <td>60</td>\n",
       "      <td>2</td>\n",
       "      <td>2</td>\n",
       "      <td>0</td>\n",
       "      <td>NaN</td>\n",
       "    </tr>\n",
       "    <tr>\n",
       "      <th>2</th>\n",
       "      <td>2022-02-27</td>\n",
       "      <td>4</td>\n",
       "      <td>27</td>\n",
       "      <td>26</td>\n",
       "      <td>150</td>\n",
       "      <td>706</td>\n",
       "      <td>50</td>\n",
       "      <td>4</td>\n",
       "      <td>130</td>\n",
       "      <td>60</td>\n",
       "      <td>2</td>\n",
       "      <td>2</td>\n",
       "      <td>0</td>\n",
       "      <td>NaN</td>\n",
       "    </tr>\n",
       "    <tr>\n",
       "      <th>3</th>\n",
       "      <td>2022-02-28</td>\n",
       "      <td>5</td>\n",
       "      <td>29</td>\n",
       "      <td>29</td>\n",
       "      <td>150</td>\n",
       "      <td>816</td>\n",
       "      <td>74</td>\n",
       "      <td>21</td>\n",
       "      <td>291</td>\n",
       "      <td>60</td>\n",
       "      <td>3</td>\n",
       "      <td>2</td>\n",
       "      <td>5</td>\n",
       "      <td>NaN</td>\n",
       "    </tr>\n",
       "    <tr>\n",
       "      <th>4</th>\n",
       "      <td>2022-03-01</td>\n",
       "      <td>6</td>\n",
       "      <td>29</td>\n",
       "      <td>29</td>\n",
       "      <td>198</td>\n",
       "      <td>846</td>\n",
       "      <td>77</td>\n",
       "      <td>24</td>\n",
       "      <td>305</td>\n",
       "      <td>60</td>\n",
       "      <td>3</td>\n",
       "      <td>2</td>\n",
       "      <td>7</td>\n",
       "      <td>NaN</td>\n",
       "    </tr>\n",
       "    <tr>\n",
       "      <th>5</th>\n",
       "      <td>2022-03-02</td>\n",
       "      <td>7</td>\n",
       "      <td>30</td>\n",
       "      <td>31</td>\n",
       "      <td>211</td>\n",
       "      <td>862</td>\n",
       "      <td>85</td>\n",
       "      <td>40</td>\n",
       "      <td>355</td>\n",
       "      <td>60</td>\n",
       "      <td>3</td>\n",
       "      <td>2</td>\n",
       "      <td>9</td>\n",
       "      <td>NaN</td>\n",
       "    </tr>\n",
       "    <tr>\n",
       "      <th>6</th>\n",
       "      <td>2022-03-03</td>\n",
       "      <td>8</td>\n",
       "      <td>30</td>\n",
       "      <td>31</td>\n",
       "      <td>217</td>\n",
       "      <td>900</td>\n",
       "      <td>90</td>\n",
       "      <td>42</td>\n",
       "      <td>374</td>\n",
       "      <td>60</td>\n",
       "      <td>3</td>\n",
       "      <td>2</td>\n",
       "      <td>11</td>\n",
       "      <td>NaN</td>\n",
       "    </tr>\n",
       "    <tr>\n",
       "      <th>7</th>\n",
       "      <td>2022-03-04</td>\n",
       "      <td>9</td>\n",
       "      <td>33</td>\n",
       "      <td>37</td>\n",
       "      <td>251</td>\n",
       "      <td>939</td>\n",
       "      <td>105</td>\n",
       "      <td>50</td>\n",
       "      <td>404</td>\n",
       "      <td>60</td>\n",
       "      <td>3</td>\n",
       "      <td>2</td>\n",
       "      <td>18</td>\n",
       "      <td>NaN</td>\n",
       "    </tr>\n",
       "    <tr>\n",
       "      <th>8</th>\n",
       "      <td>2022-03-05</td>\n",
       "      <td>10</td>\n",
       "      <td>39</td>\n",
       "      <td>40</td>\n",
       "      <td>269</td>\n",
       "      <td>945</td>\n",
       "      <td>105</td>\n",
       "      <td>50</td>\n",
       "      <td>409</td>\n",
       "      <td>60</td>\n",
       "      <td>3</td>\n",
       "      <td>2</td>\n",
       "      <td>19</td>\n",
       "      <td>NaN</td>\n",
       "    </tr>\n",
       "    <tr>\n",
       "      <th>9</th>\n",
       "      <td>2022-03-06</td>\n",
       "      <td>11</td>\n",
       "      <td>44</td>\n",
       "      <td>48</td>\n",
       "      <td>285</td>\n",
       "      <td>985</td>\n",
       "      <td>109</td>\n",
       "      <td>50</td>\n",
       "      <td>447</td>\n",
       "      <td>60</td>\n",
       "      <td>4</td>\n",
       "      <td>2</td>\n",
       "      <td>21</td>\n",
       "      <td>NaN</td>\n",
       "    </tr>\n",
       "    <tr>\n",
       "      <th>10</th>\n",
       "      <td>2022-03-07</td>\n",
       "      <td>12</td>\n",
       "      <td>46</td>\n",
       "      <td>68</td>\n",
       "      <td>290</td>\n",
       "      <td>999</td>\n",
       "      <td>117</td>\n",
       "      <td>50</td>\n",
       "      <td>454</td>\n",
       "      <td>60</td>\n",
       "      <td>7</td>\n",
       "      <td>3</td>\n",
       "      <td>23</td>\n",
       "      <td>NaN</td>\n",
       "    </tr>\n",
       "    <tr>\n",
       "      <th>11</th>\n",
       "      <td>2022-03-08</td>\n",
       "      <td>13</td>\n",
       "      <td>48</td>\n",
       "      <td>80</td>\n",
       "      <td>303</td>\n",
       "      <td>1036</td>\n",
       "      <td>120</td>\n",
       "      <td>56</td>\n",
       "      <td>474</td>\n",
       "      <td>60</td>\n",
       "      <td>7</td>\n",
       "      <td>3</td>\n",
       "      <td>27</td>\n",
       "      <td>NaN</td>\n",
       "    </tr>\n",
       "    <tr>\n",
       "      <th>12</th>\n",
       "      <td>2022-03-09</td>\n",
       "      <td>14</td>\n",
       "      <td>49</td>\n",
       "      <td>81</td>\n",
       "      <td>317</td>\n",
       "      <td>1070</td>\n",
       "      <td>120</td>\n",
       "      <td>56</td>\n",
       "      <td>482</td>\n",
       "      <td>60</td>\n",
       "      <td>7</td>\n",
       "      <td>3</td>\n",
       "      <td>28</td>\n",
       "      <td>NaN</td>\n",
       "    </tr>\n",
       "    <tr>\n",
       "      <th>13</th>\n",
       "      <td>2022-03-10</td>\n",
       "      <td>15</td>\n",
       "      <td>49</td>\n",
       "      <td>81</td>\n",
       "      <td>335</td>\n",
       "      <td>1105</td>\n",
       "      <td>123</td>\n",
       "      <td>56</td>\n",
       "      <td>526</td>\n",
       "      <td>60</td>\n",
       "      <td>7</td>\n",
       "      <td>3</td>\n",
       "      <td>29</td>\n",
       "      <td>NaN</td>\n",
       "    </tr>\n",
       "    <tr>\n",
       "      <th>14</th>\n",
       "      <td>2022-03-11</td>\n",
       "      <td>16</td>\n",
       "      <td>57</td>\n",
       "      <td>83</td>\n",
       "      <td>353</td>\n",
       "      <td>1165</td>\n",
       "      <td>125</td>\n",
       "      <td>58</td>\n",
       "      <td>558</td>\n",
       "      <td>60</td>\n",
       "      <td>7</td>\n",
       "      <td>3</td>\n",
       "      <td>31</td>\n",
       "      <td>NaN</td>\n",
       "    </tr>\n",
       "    <tr>\n",
       "      <th>15</th>\n",
       "      <td>2022-03-12</td>\n",
       "      <td>17</td>\n",
       "      <td>58</td>\n",
       "      <td>83</td>\n",
       "      <td>362</td>\n",
       "      <td>1205</td>\n",
       "      <td>135</td>\n",
       "      <td>62</td>\n",
       "      <td>585</td>\n",
       "      <td>60</td>\n",
       "      <td>7</td>\n",
       "      <td>3</td>\n",
       "      <td>33</td>\n",
       "      <td>NaN</td>\n",
       "    </tr>\n",
       "    <tr>\n",
       "      <th>16</th>\n",
       "      <td>2022-03-13</td>\n",
       "      <td>18</td>\n",
       "      <td>74</td>\n",
       "      <td>86</td>\n",
       "      <td>374</td>\n",
       "      <td>1226</td>\n",
       "      <td>140</td>\n",
       "      <td>62</td>\n",
       "      <td>600</td>\n",
       "      <td>60</td>\n",
       "      <td>7</td>\n",
       "      <td>3</td>\n",
       "      <td>34</td>\n",
       "      <td>NaN</td>\n",
       "    </tr>\n",
       "    <tr>\n",
       "      <th>17</th>\n",
       "      <td>2022-03-14</td>\n",
       "      <td>19</td>\n",
       "      <td>77</td>\n",
       "      <td>90</td>\n",
       "      <td>389</td>\n",
       "      <td>1249</td>\n",
       "      <td>150</td>\n",
       "      <td>64</td>\n",
       "      <td>617</td>\n",
       "      <td>60</td>\n",
       "      <td>8</td>\n",
       "      <td>3</td>\n",
       "      <td>34</td>\n",
       "      <td>NaN</td>\n",
       "    </tr>\n",
       "    <tr>\n",
       "      <th>18</th>\n",
       "      <td>2022-03-15</td>\n",
       "      <td>20</td>\n",
       "      <td>81</td>\n",
       "      <td>95</td>\n",
       "      <td>404</td>\n",
       "      <td>1279</td>\n",
       "      <td>150</td>\n",
       "      <td>64</td>\n",
       "      <td>640</td>\n",
       "      <td>60</td>\n",
       "      <td>9</td>\n",
       "      <td>3</td>\n",
       "      <td>36</td>\n",
       "      <td>NaN</td>\n",
       "    </tr>\n",
       "    <tr>\n",
       "      <th>19</th>\n",
       "      <td>2022-03-16</td>\n",
       "      <td>21</td>\n",
       "      <td>84</td>\n",
       "      <td>108</td>\n",
       "      <td>430</td>\n",
       "      <td>1375</td>\n",
       "      <td>190</td>\n",
       "      <td>70</td>\n",
       "      <td>819</td>\n",
       "      <td>60</td>\n",
       "      <td>11</td>\n",
       "      <td>3</td>\n",
       "      <td>43</td>\n",
       "      <td>10.0</td>\n",
       "    </tr>\n",
       "    <tr>\n",
       "      <th>20</th>\n",
       "      <td>2022-03-17</td>\n",
       "      <td>22</td>\n",
       "      <td>86</td>\n",
       "      <td>108</td>\n",
       "      <td>444</td>\n",
       "      <td>1435</td>\n",
       "      <td>201</td>\n",
       "      <td>72</td>\n",
       "      <td>864</td>\n",
       "      <td>60</td>\n",
       "      <td>11</td>\n",
       "      <td>3</td>\n",
       "      <td>43</td>\n",
       "      <td>10.0</td>\n",
       "    </tr>\n",
       "    <tr>\n",
       "      <th>21</th>\n",
       "      <td>2022-03-18</td>\n",
       "      <td>23</td>\n",
       "      <td>93</td>\n",
       "      <td>112</td>\n",
       "      <td>450</td>\n",
       "      <td>1448</td>\n",
       "      <td>205</td>\n",
       "      <td>72</td>\n",
       "      <td>879</td>\n",
       "      <td>60</td>\n",
       "      <td>12</td>\n",
       "      <td>3</td>\n",
       "      <td>43</td>\n",
       "      <td>11.0</td>\n",
       "    </tr>\n",
       "    <tr>\n",
       "      <th>22</th>\n",
       "      <td>2022-03-19</td>\n",
       "      <td>24</td>\n",
       "      <td>95</td>\n",
       "      <td>115</td>\n",
       "      <td>466</td>\n",
       "      <td>1470</td>\n",
       "      <td>213</td>\n",
       "      <td>72</td>\n",
       "      <td>914</td>\n",
       "      <td>60</td>\n",
       "      <td>17</td>\n",
       "      <td>3</td>\n",
       "      <td>44</td>\n",
       "      <td>11.0</td>\n",
       "    </tr>\n",
       "    <tr>\n",
       "      <th>23</th>\n",
       "      <td>2022-03-20</td>\n",
       "      <td>25</td>\n",
       "      <td>96</td>\n",
       "      <td>118</td>\n",
       "      <td>476</td>\n",
       "      <td>1487</td>\n",
       "      <td>230</td>\n",
       "      <td>74</td>\n",
       "      <td>947</td>\n",
       "      <td>60</td>\n",
       "      <td>21</td>\n",
       "      <td>3</td>\n",
       "      <td>44</td>\n",
       "      <td>12.0</td>\n",
       "    </tr>\n",
       "    <tr>\n",
       "      <th>24</th>\n",
       "      <td>2022-03-21</td>\n",
       "      <td>26</td>\n",
       "      <td>97</td>\n",
       "      <td>121</td>\n",
       "      <td>498</td>\n",
       "      <td>1535</td>\n",
       "      <td>240</td>\n",
       "      <td>80</td>\n",
       "      <td>969</td>\n",
       "      <td>60</td>\n",
       "      <td>24</td>\n",
       "      <td>3</td>\n",
       "      <td>45</td>\n",
       "      <td>13.0</td>\n",
       "    </tr>\n",
       "    <tr>\n",
       "      <th>25</th>\n",
       "      <td>2022-03-22</td>\n",
       "      <td>27</td>\n",
       "      <td>99</td>\n",
       "      <td>123</td>\n",
       "      <td>509</td>\n",
       "      <td>1556</td>\n",
       "      <td>252</td>\n",
       "      <td>80</td>\n",
       "      <td>1000</td>\n",
       "      <td>70</td>\n",
       "      <td>35</td>\n",
       "      <td>3</td>\n",
       "      <td>45</td>\n",
       "      <td>15.0</td>\n",
       "    </tr>\n",
       "    <tr>\n",
       "      <th>26</th>\n",
       "      <td>2022-03-23</td>\n",
       "      <td>28</td>\n",
       "      <td>101</td>\n",
       "      <td>124</td>\n",
       "      <td>517</td>\n",
       "      <td>1578</td>\n",
       "      <td>267</td>\n",
       "      <td>80</td>\n",
       "      <td>1008</td>\n",
       "      <td>70</td>\n",
       "      <td>42</td>\n",
       "      <td>4</td>\n",
       "      <td>47</td>\n",
       "      <td>15.0</td>\n",
       "    </tr>\n",
       "    <tr>\n",
       "      <th>27</th>\n",
       "      <td>2022-03-24</td>\n",
       "      <td>29</td>\n",
       "      <td>108</td>\n",
       "      <td>124</td>\n",
       "      <td>530</td>\n",
       "      <td>1597</td>\n",
       "      <td>280</td>\n",
       "      <td>82</td>\n",
       "      <td>1033</td>\n",
       "      <td>72</td>\n",
       "      <td>50</td>\n",
       "      <td>4</td>\n",
       "      <td>47</td>\n",
       "      <td>16.0</td>\n",
       "    </tr>\n",
       "    <tr>\n",
       "      <th>28</th>\n",
       "      <td>2022-03-25</td>\n",
       "      <td>30</td>\n",
       "      <td>115</td>\n",
       "      <td>125</td>\n",
       "      <td>561</td>\n",
       "      <td>1625</td>\n",
       "      <td>291</td>\n",
       "      <td>90</td>\n",
       "      <td>1089</td>\n",
       "      <td>72</td>\n",
       "      <td>53</td>\n",
       "      <td>5</td>\n",
       "      <td>49</td>\n",
       "      <td>18.0</td>\n",
       "    </tr>\n",
       "  </tbody>\n",
       "</table>\n",
       "</div>"
      ],
      "text/plain": [
       "          date  day  aircraft  helicopter  tank   APC  field artillery  MRL  \\\n",
       "0   2022-02-25    2        10           7    80   516               49    4   \n",
       "1   2022-02-26    3        27          26   146   706               49    4   \n",
       "2   2022-02-27    4        27          26   150   706               50    4   \n",
       "3   2022-02-28    5        29          29   150   816               74   21   \n",
       "4   2022-03-01    6        29          29   198   846               77   24   \n",
       "5   2022-03-02    7        30          31   211   862               85   40   \n",
       "6   2022-03-03    8        30          31   217   900               90   42   \n",
       "7   2022-03-04    9        33          37   251   939              105   50   \n",
       "8   2022-03-05   10        39          40   269   945              105   50   \n",
       "9   2022-03-06   11        44          48   285   985              109   50   \n",
       "10  2022-03-07   12        46          68   290   999              117   50   \n",
       "11  2022-03-08   13        48          80   303  1036              120   56   \n",
       "12  2022-03-09   14        49          81   317  1070              120   56   \n",
       "13  2022-03-10   15        49          81   335  1105              123   56   \n",
       "14  2022-03-11   16        57          83   353  1165              125   58   \n",
       "15  2022-03-12   17        58          83   362  1205              135   62   \n",
       "16  2022-03-13   18        74          86   374  1226              140   62   \n",
       "17  2022-03-14   19        77          90   389  1249              150   64   \n",
       "18  2022-03-15   20        81          95   404  1279              150   64   \n",
       "19  2022-03-16   21        84         108   430  1375              190   70   \n",
       "20  2022-03-17   22        86         108   444  1435              201   72   \n",
       "21  2022-03-18   23        93         112   450  1448              205   72   \n",
       "22  2022-03-19   24        95         115   466  1470              213   72   \n",
       "23  2022-03-20   25        96         118   476  1487              230   74   \n",
       "24  2022-03-21   26        97         121   498  1535              240   80   \n",
       "25  2022-03-22   27        99         123   509  1556              252   80   \n",
       "26  2022-03-23   28       101         124   517  1578              267   80   \n",
       "27  2022-03-24   29       108         124   530  1597              280   82   \n",
       "28  2022-03-25   30       115         125   561  1625              291   90   \n",
       "\n",
       "    military auto  fuel tank  drone  naval ship  anti-aircraft warfare  \\\n",
       "0             100         60      0           2                      0   \n",
       "1             130         60      2           2                      0   \n",
       "2             130         60      2           2                      0   \n",
       "3             291         60      3           2                      5   \n",
       "4             305         60      3           2                      7   \n",
       "5             355         60      3           2                      9   \n",
       "6             374         60      3           2                     11   \n",
       "7             404         60      3           2                     18   \n",
       "8             409         60      3           2                     19   \n",
       "9             447         60      4           2                     21   \n",
       "10            454         60      7           3                     23   \n",
       "11            474         60      7           3                     27   \n",
       "12            482         60      7           3                     28   \n",
       "13            526         60      7           3                     29   \n",
       "14            558         60      7           3                     31   \n",
       "15            585         60      7           3                     33   \n",
       "16            600         60      7           3                     34   \n",
       "17            617         60      8           3                     34   \n",
       "18            640         60      9           3                     36   \n",
       "19            819         60     11           3                     43   \n",
       "20            864         60     11           3                     43   \n",
       "21            879         60     12           3                     43   \n",
       "22            914         60     17           3                     44   \n",
       "23            947         60     21           3                     44   \n",
       "24            969         60     24           3                     45   \n",
       "25           1000         70     35           3                     45   \n",
       "26           1008         70     42           4                     47   \n",
       "27           1033         72     50           4                     47   \n",
       "28           1089         72     53           5                     49   \n",
       "\n",
       "    special equipment  \n",
       "0                 NaN  \n",
       "1                 NaN  \n",
       "2                 NaN  \n",
       "3                 NaN  \n",
       "4                 NaN  \n",
       "5                 NaN  \n",
       "6                 NaN  \n",
       "7                 NaN  \n",
       "8                 NaN  \n",
       "9                 NaN  \n",
       "10                NaN  \n",
       "11                NaN  \n",
       "12                NaN  \n",
       "13                NaN  \n",
       "14                NaN  \n",
       "15                NaN  \n",
       "16                NaN  \n",
       "17                NaN  \n",
       "18                NaN  \n",
       "19               10.0  \n",
       "20               10.0  \n",
       "21               11.0  \n",
       "22               11.0  \n",
       "23               12.0  \n",
       "24               13.0  \n",
       "25               15.0  \n",
       "26               15.0  \n",
       "27               16.0  \n",
       "28               18.0  "
      ]
     },
     "execution_count": 69,
     "metadata": {},
     "output_type": "execute_result"
    }
   ],
   "source": [
    "df1 = pd.read_csv('russia_losses_equipment.csv')\n",
    "df1"
   ]
  },
  {
   "cell_type": "code",
   "execution_count": 70,
   "metadata": {},
   "outputs": [
    {
     "data": {
      "text/html": [
       "<div>\n",
       "<style scoped>\n",
       "    .dataframe tbody tr th:only-of-type {\n",
       "        vertical-align: middle;\n",
       "    }\n",
       "\n",
       "    .dataframe tbody tr th {\n",
       "        vertical-align: top;\n",
       "    }\n",
       "\n",
       "    .dataframe thead th {\n",
       "        text-align: right;\n",
       "    }\n",
       "</style>\n",
       "<table border=\"1\" class=\"dataframe\">\n",
       "  <thead>\n",
       "    <tr style=\"text-align: right;\">\n",
       "      <th></th>\n",
       "      <th>date</th>\n",
       "      <th>day</th>\n",
       "      <th>personnel</th>\n",
       "      <th>personnel*</th>\n",
       "      <th>POW</th>\n",
       "    </tr>\n",
       "  </thead>\n",
       "  <tbody>\n",
       "    <tr>\n",
       "      <th>0</th>\n",
       "      <td>2022-02-25</td>\n",
       "      <td>2</td>\n",
       "      <td>2800</td>\n",
       "      <td>about</td>\n",
       "      <td>0</td>\n",
       "    </tr>\n",
       "    <tr>\n",
       "      <th>1</th>\n",
       "      <td>2022-02-26</td>\n",
       "      <td>3</td>\n",
       "      <td>4300</td>\n",
       "      <td>about</td>\n",
       "      <td>0</td>\n",
       "    </tr>\n",
       "    <tr>\n",
       "      <th>2</th>\n",
       "      <td>2022-02-27</td>\n",
       "      <td>4</td>\n",
       "      <td>4500</td>\n",
       "      <td>about</td>\n",
       "      <td>0</td>\n",
       "    </tr>\n",
       "    <tr>\n",
       "      <th>3</th>\n",
       "      <td>2022-02-28</td>\n",
       "      <td>5</td>\n",
       "      <td>5300</td>\n",
       "      <td>about</td>\n",
       "      <td>0</td>\n",
       "    </tr>\n",
       "    <tr>\n",
       "      <th>4</th>\n",
       "      <td>2022-03-01</td>\n",
       "      <td>6</td>\n",
       "      <td>5710</td>\n",
       "      <td>about</td>\n",
       "      <td>200</td>\n",
       "    </tr>\n",
       "    <tr>\n",
       "      <th>5</th>\n",
       "      <td>2022-03-02</td>\n",
       "      <td>7</td>\n",
       "      <td>5840</td>\n",
       "      <td>about</td>\n",
       "      <td>200</td>\n",
       "    </tr>\n",
       "    <tr>\n",
       "      <th>6</th>\n",
       "      <td>2022-03-03</td>\n",
       "      <td>8</td>\n",
       "      <td>9000</td>\n",
       "      <td>about</td>\n",
       "      <td>200</td>\n",
       "    </tr>\n",
       "    <tr>\n",
       "      <th>7</th>\n",
       "      <td>2022-03-04</td>\n",
       "      <td>9</td>\n",
       "      <td>9166</td>\n",
       "      <td>about</td>\n",
       "      <td>200</td>\n",
       "    </tr>\n",
       "    <tr>\n",
       "      <th>8</th>\n",
       "      <td>2022-03-05</td>\n",
       "      <td>10</td>\n",
       "      <td>10000</td>\n",
       "      <td>about</td>\n",
       "      <td>216</td>\n",
       "    </tr>\n",
       "    <tr>\n",
       "      <th>9</th>\n",
       "      <td>2022-03-06</td>\n",
       "      <td>11</td>\n",
       "      <td>11000</td>\n",
       "      <td>about</td>\n",
       "      <td>232</td>\n",
       "    </tr>\n",
       "    <tr>\n",
       "      <th>10</th>\n",
       "      <td>2022-03-07</td>\n",
       "      <td>12</td>\n",
       "      <td>11000</td>\n",
       "      <td>more</td>\n",
       "      <td>259</td>\n",
       "    </tr>\n",
       "    <tr>\n",
       "      <th>11</th>\n",
       "      <td>2022-03-08</td>\n",
       "      <td>13</td>\n",
       "      <td>12000</td>\n",
       "      <td>about</td>\n",
       "      <td>284</td>\n",
       "    </tr>\n",
       "    <tr>\n",
       "      <th>12</th>\n",
       "      <td>2022-03-09</td>\n",
       "      <td>14</td>\n",
       "      <td>12000</td>\n",
       "      <td>about</td>\n",
       "      <td>360</td>\n",
       "    </tr>\n",
       "    <tr>\n",
       "      <th>13</th>\n",
       "      <td>2022-03-10</td>\n",
       "      <td>15</td>\n",
       "      <td>12000</td>\n",
       "      <td>more</td>\n",
       "      <td>371</td>\n",
       "    </tr>\n",
       "    <tr>\n",
       "      <th>14</th>\n",
       "      <td>2022-03-11</td>\n",
       "      <td>16</td>\n",
       "      <td>12000</td>\n",
       "      <td>more</td>\n",
       "      <td>389</td>\n",
       "    </tr>\n",
       "    <tr>\n",
       "      <th>15</th>\n",
       "      <td>2022-03-12</td>\n",
       "      <td>17</td>\n",
       "      <td>12000</td>\n",
       "      <td>more</td>\n",
       "      <td>389</td>\n",
       "    </tr>\n",
       "    <tr>\n",
       "      <th>16</th>\n",
       "      <td>2022-03-13</td>\n",
       "      <td>18</td>\n",
       "      <td>12000</td>\n",
       "      <td>more</td>\n",
       "      <td>389</td>\n",
       "    </tr>\n",
       "    <tr>\n",
       "      <th>17</th>\n",
       "      <td>2022-03-14</td>\n",
       "      <td>19</td>\n",
       "      <td>12000</td>\n",
       "      <td>more</td>\n",
       "      <td>389</td>\n",
       "    </tr>\n",
       "    <tr>\n",
       "      <th>18</th>\n",
       "      <td>2022-03-15</td>\n",
       "      <td>20</td>\n",
       "      <td>13500</td>\n",
       "      <td>about</td>\n",
       "      <td>389</td>\n",
       "    </tr>\n",
       "    <tr>\n",
       "      <th>19</th>\n",
       "      <td>2022-03-16</td>\n",
       "      <td>21</td>\n",
       "      <td>13800</td>\n",
       "      <td>about</td>\n",
       "      <td>389</td>\n",
       "    </tr>\n",
       "    <tr>\n",
       "      <th>20</th>\n",
       "      <td>2022-03-17</td>\n",
       "      <td>22</td>\n",
       "      <td>14000</td>\n",
       "      <td>about</td>\n",
       "      <td>405</td>\n",
       "    </tr>\n",
       "    <tr>\n",
       "      <th>21</th>\n",
       "      <td>2022-03-18</td>\n",
       "      <td>23</td>\n",
       "      <td>14200</td>\n",
       "      <td>about</td>\n",
       "      <td>405</td>\n",
       "    </tr>\n",
       "    <tr>\n",
       "      <th>22</th>\n",
       "      <td>2022-03-19</td>\n",
       "      <td>24</td>\n",
       "      <td>14400</td>\n",
       "      <td>about</td>\n",
       "      <td>405</td>\n",
       "    </tr>\n",
       "    <tr>\n",
       "      <th>23</th>\n",
       "      <td>2022-03-20</td>\n",
       "      <td>25</td>\n",
       "      <td>14700</td>\n",
       "      <td>about</td>\n",
       "      <td>405</td>\n",
       "    </tr>\n",
       "    <tr>\n",
       "      <th>24</th>\n",
       "      <td>2022-03-21</td>\n",
       "      <td>26</td>\n",
       "      <td>15000</td>\n",
       "      <td>about</td>\n",
       "      <td>405</td>\n",
       "    </tr>\n",
       "    <tr>\n",
       "      <th>25</th>\n",
       "      <td>2022-03-22</td>\n",
       "      <td>27</td>\n",
       "      <td>15300</td>\n",
       "      <td>about</td>\n",
       "      <td>411</td>\n",
       "    </tr>\n",
       "    <tr>\n",
       "      <th>26</th>\n",
       "      <td>2022-03-23</td>\n",
       "      <td>28</td>\n",
       "      <td>15600</td>\n",
       "      <td>about</td>\n",
       "      <td>412</td>\n",
       "    </tr>\n",
       "    <tr>\n",
       "      <th>27</th>\n",
       "      <td>2022-03-24</td>\n",
       "      <td>29</td>\n",
       "      <td>15800</td>\n",
       "      <td>about</td>\n",
       "      <td>412</td>\n",
       "    </tr>\n",
       "    <tr>\n",
       "      <th>28</th>\n",
       "      <td>2022-03-25</td>\n",
       "      <td>30</td>\n",
       "      <td>16100</td>\n",
       "      <td>about</td>\n",
       "      <td>412</td>\n",
       "    </tr>\n",
       "  </tbody>\n",
       "</table>\n",
       "</div>"
      ],
      "text/plain": [
       "          date  day  personnel personnel*  POW\n",
       "0   2022-02-25    2       2800      about    0\n",
       "1   2022-02-26    3       4300      about    0\n",
       "2   2022-02-27    4       4500      about    0\n",
       "3   2022-02-28    5       5300      about    0\n",
       "4   2022-03-01    6       5710      about  200\n",
       "5   2022-03-02    7       5840      about  200\n",
       "6   2022-03-03    8       9000      about  200\n",
       "7   2022-03-04    9       9166      about  200\n",
       "8   2022-03-05   10      10000      about  216\n",
       "9   2022-03-06   11      11000      about  232\n",
       "10  2022-03-07   12      11000       more  259\n",
       "11  2022-03-08   13      12000      about  284\n",
       "12  2022-03-09   14      12000      about  360\n",
       "13  2022-03-10   15      12000       more  371\n",
       "14  2022-03-11   16      12000       more  389\n",
       "15  2022-03-12   17      12000       more  389\n",
       "16  2022-03-13   18      12000       more  389\n",
       "17  2022-03-14   19      12000       more  389\n",
       "18  2022-03-15   20      13500      about  389\n",
       "19  2022-03-16   21      13800      about  389\n",
       "20  2022-03-17   22      14000      about  405\n",
       "21  2022-03-18   23      14200      about  405\n",
       "22  2022-03-19   24      14400      about  405\n",
       "23  2022-03-20   25      14700      about  405\n",
       "24  2022-03-21   26      15000      about  405\n",
       "25  2022-03-22   27      15300      about  411\n",
       "26  2022-03-23   28      15600      about  412\n",
       "27  2022-03-24   29      15800      about  412\n",
       "28  2022-03-25   30      16100      about  412"
      ]
     },
     "execution_count": 70,
     "metadata": {},
     "output_type": "execute_result"
    }
   ],
   "source": [
    "df2 = pd.read_csv('russia_losses_personnel.csv')\n",
    "df2"
   ]
  },
  {
   "cell_type": "code",
   "execution_count": 71,
   "metadata": {},
   "outputs": [
    {
     "data": {
      "text/plain": [
       "date                      0\n",
       "day                       0\n",
       "aircraft                  0\n",
       "helicopter                0\n",
       "tank                      0\n",
       "APC                       0\n",
       "field artillery           0\n",
       "MRL                       0\n",
       "military auto             0\n",
       "fuel tank                 0\n",
       "drone                     0\n",
       "naval ship                0\n",
       "anti-aircraft warfare     0\n",
       "special equipment        19\n",
       "dtype: int64"
      ]
     },
     "execution_count": 71,
     "metadata": {},
     "output_type": "execute_result"
    }
   ],
   "source": [
    "df1.isnull().sum()"
   ]
  },
  {
   "cell_type": "code",
   "execution_count": 72,
   "metadata": {},
   "outputs": [
    {
     "data": {
      "text/plain": [
       "date          0\n",
       "day           0\n",
       "personnel     0\n",
       "personnel*    0\n",
       "POW           0\n",
       "dtype: int64"
      ]
     },
     "execution_count": 72,
     "metadata": {},
     "output_type": "execute_result"
    }
   ],
   "source": [
    "df2.isnull().sum()"
   ]
  },
  {
   "cell_type": "code",
   "execution_count": 73,
   "metadata": {},
   "outputs": [
    {
     "data": {
      "text/plain": [
       "Text(0, 0.5, 'Aircraft')"
      ]
     },
     "execution_count": 73,
     "metadata": {},
     "output_type": "execute_result"
    },
    {
     "data": {
      "image/png": "[encoded data removed]",
      "text/plain": [
       "<Figure size 432x288 with 1 Axes>"
      ]
     },
     "metadata": {
      "needs_background": "light"
     },
     "output_type": "display_data"
    }
   ],
   "source": [
    "plot = df1.sort_values(by = 'date').head()\n",
    "plt.xticks(rotation=90)\n",
    "sns.barplot(x=plot.date,y=plot.aircraft)\n",
    "plt.xlabel('Date')\n",
    "plt.ylabel('Aircraft')"
   ]
  },
  {
   "cell_type": "code",
   "execution_count": 74,
   "metadata": {},
   "outputs": [
    {
     "data": {
      "text/plain": [
       "Text(0, 0.5, 'Naval ship')"
      ]
     },
     "execution_count": 74,
     "metadata": {},
     "output_type": "execute_result"
    },
    {
     "data": {
      "image/png": "[encoded data removed]",
      "text/plain": [
       "<Figure size 432x288 with 1 Axes>"
      ]
     },
     "metadata": {
      "needs_background": "light"
     },
     "output_type": "display_data"
    }
   ],
   "source": [
    "plot = df1.sort_values(by = 'date').head()\n",
    "plt.xticks(rotation=90)\n",
    "sns.swarmplot(x=plot.date,y=plot['naval ship'])\n",
    "plt.xlabel('Date')\n",
    "plt.ylabel('Naval ship')"
   ]
  },
  {
   "cell_type": "code",
   "execution_count": 75,
   "metadata": {},
   "outputs": [
    {
     "data": {
      "text/plain": [
       "Text(0, 0.5, 'Anti-aircraft warfare')"
      ]
     },
     "execution_count": 75,
     "metadata": {},
     "output_type": "execute_result"
    },
    {
     "data": {
      "image/png": "[encoded data removed]",
      "text/plain": [
       "<Figure size 432x288 with 1 Axes>"
      ]
     },
     "metadata": {
      "needs_background": "light"
     },
     "output_type": "display_data"
    }
   ],
   "source": [
    "plot = df1.sort_values(by = 'date').head()\n",
    "plt.xticks(rotation=90)\n",
    "sns.scatterplot(x=plot.date,y=plot['anti-aircraft warfare'])\n",
    "plt.xlabel('Date')\n",
    "plt.ylabel('Anti-aircraft warfare')"
   ]
  },
  {
   "cell_type": "code",
   "execution_count": 76,
   "metadata": {},
   "outputs": [
    {
     "data": {
      "text/plain": [
       "Text(0, 0.5, 'Helicopter')"
      ]
     },
     "execution_count": 76,
     "metadata": {},
     "output_type": "execute_result"
    },
    {
     "data": {
      "image/png": "[encoded data removed]",
      "text/plain": [
       "<Figure size 432x288 with 1 Axes>"
      ]
     },
     "metadata": {
      "needs_background": "light"
     },
     "output_type": "display_data"
    }
   ],
   "source": [
    "plot1 = df1.sort_values(by = 'date').head()\n",
    "plt.xticks(rotation=90)\n",
    "sns.barplot(x=plot.date,y=plot.helicopter, color='red')\n",
    "plt.xlabel('Date')\n",
    "plt.ylabel('Helicopter')"
   ]
  },
  {
   "cell_type": "code",
   "execution_count": 77,
   "metadata": {},
   "outputs": [
    {
     "data": {
      "text/plain": [
       "Text(0, 0.5, 'Drone')"
      ]
     },
     "execution_count": 77,
     "metadata": {},
     "output_type": "execute_result"
    },
    {
     "data": {
      "image/png": "[encoded data removed]",
      "text/plain": [
       "<Figure size 432x288 with 1 Axes>"
      ]
     },
     "metadata": {
      "needs_background": "light"
     },
     "output_type": "display_data"
    }
   ],
   "source": [
    "plot1 = df1.sort_values(by = 'date').head()\n",
    "plt.xticks(rotation=90)\n",
    "sns.stripplot(x=plot.date,y=plot.drone)\n",
    "plt.xlabel('Date')\n",
    "plt.ylabel('Drone')"
   ]
  },
  {
   "cell_type": "code",
   "execution_count": 78,
   "metadata": {},
   "outputs": [
    {
     "data": {
      "text/plain": [
       "Text(0, 0.5, 'Fuel tank')"
      ]
     },
     "execution_count": 78,
     "metadata": {},
     "output_type": "execute_result"
    },
    {
     "data": {
      "image/png": "[encoded data removed]",
      "text/plain": [
       "<Figure size 432x288 with 1 Axes>"
      ]
     },
     "metadata": {
      "needs_background": "light"
     },
     "output_type": "display_data"
    }
   ],
   "source": [
    "plot1 = df1.sort_values(by = 'date').head()\n",
    "plt.xticks(rotation=90)\n",
    "sns.lineplot(x=plot.date,y=plot['fuel tank'])\n",
    "plt.xlabel('Date')\n",
    "plt.ylabel('Fuel tank')"
   ]
  },
  {
   "cell_type": "code",
   "execution_count": 79,
   "metadata": {},
   "outputs": [
    {
     "data": {
      "text/plain": [
       "Text(0, 0.5, 'APC')"
      ]
     },
     "execution_count": 79,
     "metadata": {},
     "output_type": "execute_result"
    },
    {
     "data": {
      "image/png": "[encoded data removed]",
      "text/plain": [
       "<Figure size 432x288 with 1 Axes>"
      ]
     },
     "metadata": {
      "needs_background": "light"
     },
     "output_type": "display_data"
    }
   ],
   "source": [
    "plot1 = df1.sort_values(by = 'date').head()\n",
    "plt.xticks(rotation=90)\n",
    "sns.lineplot(x=plot.date,y=plot.APC)\n",
    "plt.xlabel('Date')\n",
    "plt.ylabel('APC')"
   ]
  },
  {
   "cell_type": "code",
   "execution_count": 80,
   "metadata": {},
   "outputs": [
    {
     "data": {
      "text/plain": [
       "Text(0, 0.5, 'Military auto')"
      ]
     },
     "execution_count": 80,
     "metadata": {},
     "output_type": "execute_result"
    },
    {
     "data": {
      "image/png": "[encoded data removed]",
      "text/plain": [
       "<Figure size 432x288 with 1 Axes>"
      ]
     },
     "metadata": {
      "needs_background": "light"
     },
     "output_type": "display_data"
    }
   ],
   "source": [
    "plot1 = df1.sort_values(by = 'date').head()\n",
    "plt.xticks(rotation=90)\n",
    "sns.boxplot(x=plot.date,y=plot['military auto'])\n",
    "plt.xlabel('Date')\n",
    "plt.ylabel('Military auto')"
   ]
  },
  {
   "cell_type": "code",
   "execution_count": 81,
   "metadata": {},
   "outputs": [
    {
     "data": {
      "text/plain": [
       "Text(0, 0.5, 'MRL')"
      ]
     },
     "execution_count": 81,
     "metadata": {},
     "output_type": "execute_result"
    },
    {
     "data": {
      "image/png": "[encoded data removed]",
      "text/plain": [
       "<Figure size 432x288 with 1 Axes>"
      ]
     },
     "metadata": {
      "needs_background": "light"
     },
     "output_type": "display_data"
    }
   ],
   "source": [
    "plot1 = df1.sort_values(by = 'date').head()\n",
    "plt.xticks(rotation=90)\n",
    "sns.barplot(x=plot.date,y=plot.MRL)\n",
    "plt.xlabel('Date')\n",
    "plt.ylabel('MRL')"
   ]
  },
  {
   "cell_type": "code",
   "execution_count": 82,
   "metadata": {},
   "outputs": [
    {
     "data": {
      "text/plain": [
       "Text(0, 0.5, 'Field artillery')"
      ]
     },
     "execution_count": 82,
     "metadata": {},
     "output_type": "execute_result"
    },
    {
     "data": {
      "image/png": "[encoded data removed]",
      "text/plain": [
       "<Figure size 432x288 with 1 Axes>"
      ]
     },
     "metadata": {
      "needs_background": "light"
     },
     "output_type": "display_data"
    }
   ],
   "source": [
    "plot1 = df1.sort_values(by = 'date').head()\n",
    "plt.xticks(rotation=90)\n",
    "sns.lineplot(x=plot.date,y=plot['field artillery'])\n",
    "plt.xlabel('Date')\n",
    "plt.ylabel('Field artillery')"
   ]
  },
  {
   "cell_type": "code",
   "execution_count": 83,
   "metadata": {},
   "outputs": [
    {
     "data": {
      "text/plain": [
       "Text(0, 0.5, 'Tank')"
      ]
     },
     "execution_count": 83,
     "metadata": {},
     "output_type": "execute_result"
    },
    {
     "data": {
      "image/png": "[encoded data removed]",
      "text/plain": [
       "<Figure size 432x288 with 1 Axes>"
      ]
     },
     "metadata": {
      "needs_background": "light"
     },
     "output_type": "display_data"
    }
   ],
   "source": [
    "plot1 = df1.sort_values(by = 'date').head()\n",
    "plt.xticks(rotation=90)\n",
    "sns.lineplot(x=plot.date,y=plot.tank)\n",
    "plt.xlabel('Date')\n",
    "plt.ylabel('Tank')"
   ]
  },
  {
   "cell_type": "code",
   "execution_count": 84,
   "metadata": {},
   "outputs": [
    {
     "data": {
      "text/plain": [
       "Text(0, 0.5, 'Personnel')"
      ]
     },
     "execution_count": 84,
     "metadata": {},
     "output_type": "execute_result"
    },
    {
     "data": {
      "image/png": "[encoded data removed]",
      "text/plain": [
       "<Figure size 432x288 with 1 Axes>"
      ]
     },
     "metadata": {
      "needs_background": "light"
     },
     "output_type": "display_data"
    }
   ],
   "source": [
    "plot = df2.sort_values(by = 'date').head()\n",
    "plt.xticks(rotation=90)\n",
    "sns.barplot(x=plot.date,y=plot.personnel)\n",
    "plt.xlabel('Date')\n",
    "plt.ylabel('Personnel')"
   ]
  },
  {
   "cell_type": "code",
   "execution_count": 85,
   "metadata": {},
   "outputs": [
    {
     "data": {
      "text/plain": [
       "Text(0, 0.5, 'POW')"
      ]
     },
     "execution_count": 85,
     "metadata": {},
     "output_type": "execute_result"
    },
    {
     "data": {
      "image/png": "[encoded data removed]",
      "text/plain": [
       "<Figure size 432x288 with 1 Axes>"
      ]
     },
     "metadata": {
      "needs_background": "light"
     },
     "output_type": "display_data"
    }
   ],
   "source": [
    "plot1 = df2.sort_values(by = 'date').head()\n",
    "plt.xticks(rotation=90)\n",
    "sns.lineplot(x=plot.date,y=plot.POW)\n",
    "plt.xlabel('Date')\n",
    "plt.ylabel('POW')"
   ]
  },
  {
   "cell_type": "code",
   "execution_count": 86,
   "metadata": {},
   "outputs": [
    {
     "data": {
      "text/plain": [
       "<bound method NDFrame.head of         date  day  aircraft  helicopter  tank   APC  field artillery  MRL  \\\n",
       "0   20220225    2        10           7    80   516               49    4   \n",
       "1   20220226    3        27          26   146   706               49    4   \n",
       "2   20220227    4        27          26   150   706               50    4   \n",
       "3   20220228    5        29          29   150   816               74   21   \n",
       "4   20220301    6        29          29   198   846               77   24   \n",
       "5   20220302    7        30          31   211   862               85   40   \n",
       "6   20220303    8        30          31   217   900               90   42   \n",
       "7   20220304    9        33          37   251   939              105   50   \n",
       "8   20220305   10        39          40   269   945              105   50   \n",
       "9   20220306   11        44          48   285   985              109   50   \n",
       "10  20220307   12        46          68   290   999              117   50   \n",
       "11  20220308   13        48          80   303  1036              120   56   \n",
       "12  20220309   14        49          81   317  1070              120   56   \n",
       "13  20220310   15        49          81   335  1105              123   56   \n",
       "14  20220311   16        57          83   353  1165              125   58   \n",
       "15  20220312   17        58          83   362  1205              135   62   \n",
       "16  20220313   18        74          86   374  1226              140   62   \n",
       "17  20220314   19        77          90   389  1249              150   64   \n",
       "18  20220315   20        81          95   404  1279              150   64   \n",
       "19  20220316   21        84         108   430  1375              190   70   \n",
       "20  20220317   22        86         108   444  1435              201   72   \n",
       "21  20220318   23        93         112   450  1448              205   72   \n",
       "22  20220319   24        95         115   466  1470              213   72   \n",
       "23  20220320   25        96         118   476  1487              230   74   \n",
       "24  20220321   26        97         121   498  1535              240   80   \n",
       "25  20220322   27        99         123   509  1556              252   80   \n",
       "26  20220323   28       101         124   517  1578              267   80   \n",
       "27  20220324   29       108         124   530  1597              280   82   \n",
       "28  20220325   30       115         125   561  1625              291   90   \n",
       "\n",
       "    military auto  fuel tank  drone  naval ship  anti-aircraft warfare  \\\n",
       "0             100         60      0           2                      0   \n",
       "1             130         60      2           2                      0   \n",
       "2             130         60      2           2                      0   \n",
       "3             291         60      3           2                      5   \n",
       "4             305         60      3           2                      7   \n",
       "5             355         60      3           2                      9   \n",
       "6             374         60      3           2                     11   \n",
       "7             404         60      3           2                     18   \n",
       "8             409         60      3           2                     19   \n",
       "9             447         60      4           2                     21   \n",
       "10            454         60      7           3                     23   \n",
       "11            474         60      7           3                     27   \n",
       "12            482         60      7           3                     28   \n",
       "13            526         60      7           3                     29   \n",
       "14            558         60      7           3                     31   \n",
       "15            585         60      7           3                     33   \n",
       "16            600         60      7           3                     34   \n",
       "17            617         60      8           3                     34   \n",
       "18            640         60      9           3                     36   \n",
       "19            819         60     11           3                     43   \n",
       "20            864         60     11           3                     43   \n",
       "21            879         60     12           3                     43   \n",
       "22            914         60     17           3                     44   \n",
       "23            947         60     21           3                     44   \n",
       "24            969         60     24           3                     45   \n",
       "25           1000         70     35           3                     45   \n",
       "26           1008         70     42           4                     47   \n",
       "27           1033         72     50           4                     47   \n",
       "28           1089         72     53           5                     49   \n",
       "\n",
       "    special equipment  \n",
       "0                 NaN  \n",
       "1                 NaN  \n",
       "2                 NaN  \n",
       "3                 NaN  \n",
       "4                 NaN  \n",
       "5                 NaN  \n",
       "6                 NaN  \n",
       "7                 NaN  \n",
       "8                 NaN  \n",
       "9                 NaN  \n",
       "10                NaN  \n",
       "11                NaN  \n",
       "12                NaN  \n",
       "13                NaN  \n",
       "14                NaN  \n",
       "15                NaN  \n",
       "16                NaN  \n",
       "17                NaN  \n",
       "18                NaN  \n",
       "19               10.0  \n",
       "20               10.0  \n",
       "21               11.0  \n",
       "22               11.0  \n",
       "23               12.0  \n",
       "24               13.0  \n",
       "25               15.0  \n",
       "26               15.0  \n",
       "27               16.0  \n",
       "28               18.0  >"
      ]
     },
     "execution_count": 86,
     "metadata": {},
     "output_type": "execute_result"
    }
   ],
   "source": [
    "df1.date= df1.date.str.replace('-','')\n",
    "df1.head"
   ]
  }
 ],
 "metadata": {
  "interpreter": {
   "hash": "c569cd2e17f62341e0f08a54f9a867c3c0d3a6f67454072d7de41a8b5dff8343"
  },
  "kernelspec": {
   "display_name": "Python 3.9.6 64-bit",
   "language": "python",
   "name": "python3"
  },
  "language_info": {
   "codemirror_mode": {
    "name": "ipython",
    "version": 3
   },
   "file_extension": ".py",
   "mimetype": "text/x-python",
   "name": "python",
   "nbconvert_exporter": "python",
   "pygments_lexer": "ipython3",
   "version": "3.9.6"
  },
  "orig_nbformat": 4
 },
 "nbformat": 4,
 "nbformat_minor": 2
}
